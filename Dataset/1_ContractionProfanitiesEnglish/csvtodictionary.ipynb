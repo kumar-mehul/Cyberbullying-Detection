{
 "cells": [
  {
   "cell_type": "markdown",
   "metadata": {},
   "source": [
    "How to run:\n",
    "Replace the csv_file_path with your file path and click on run"
   ]
  },
  {
   "cell_type": "code",
   "execution_count": null,
   "metadata": {},
   "outputs": [],
   "source": [
    "import pandas as pd\n",
    "\n",
    "def csv_to_dict(csv_file_path):\n",
    "    # Read the CSV file\n",
    "    try:\n",
    "        df = pd.read_csv(csv_file_path)\n",
    "    except FileNotFoundError:\n",
    "        print(f\"File not found at path: {csv_file_path}\")\n",
    "        return None\n",
    "\n",
    "    # Ensure the required columns exist\n",
    "    required_columns = ['Text', 'Category']\n",
    "    if not all(col in df.columns for col in required_columns):\n",
    "        print(\"The CSV file must contain 'text' and 'category' columns.\")\n",
    "        return None\n",
    "\n",
    "    # Create a dictionary from the DataFrame\n",
    "    profanity_dict = df.set_index('Text')['Category'].to_dict()\n",
    "\n",
    "    return profanity_dict\n",
    "\n",
    "# Example usage\n",
    "csv_file_path = '/content/semantically_labeled_profanities.csv'  # Replace with your CSV file path\n",
    "profanity_dict = csv_to_dict(csv_file_path)\n",
    "\n",
    "if profanity_dict:\n",
    "    print(profanity_dict)\n"
   ]
  }
 ],
 "metadata": {
  "language_info": {
   "name": "python"
  }
 },
 "nbformat": 4,
 "nbformat_minor": 2
}
